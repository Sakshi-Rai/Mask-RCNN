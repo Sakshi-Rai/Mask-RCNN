{
 "cells": [
  {
   "cell_type": "code",
   "execution_count": 18,
   "metadata": {},
   "outputs": [
    {
     "ename": "ImportError",
     "evalue": "No module named termcolor",
     "output_type": "error",
     "traceback": [
      "\u001b[1;31m---------------------------------------------------------------------------\u001b[0m",
      "\u001b[1;31mImportError\u001b[0m                               Traceback (most recent call last)",
      "\u001b[1;32m<ipython-input-18-be035fce674d>\u001b[0m in \u001b[0;36m<module>\u001b[1;34m()\u001b[0m\n\u001b[0;32m      1\u001b[0m \u001b[1;32mimport\u001b[0m \u001b[0mos\u001b[0m\u001b[1;33m\u001b[0m\u001b[0m\n\u001b[0;32m      2\u001b[0m \u001b[1;32mimport\u001b[0m \u001b[0mnumpy\u001b[0m \u001b[1;32mas\u001b[0m \u001b[0mnp\u001b[0m\u001b[1;33m\u001b[0m\u001b[0m\n\u001b[1;32m----> 3\u001b[1;33m \u001b[1;32mimport\u001b[0m \u001b[0mvgg16\u001b[0m\u001b[1;33m\u001b[0m\u001b[0m\n\u001b[0m\u001b[0;32m      4\u001b[0m \u001b[1;32mimport\u001b[0m \u001b[0mdata_parser\u001b[0m\u001b[1;33m\u001b[0m\u001b[0m\n",
      "\u001b[1;32mC:\\Users\\sakshi11\\Documents\\vgg16.py\u001b[0m in \u001b[0;36m<module>\u001b[1;34m()\u001b[0m\n\u001b[0;32m      5\u001b[0m \u001b[1;33m\u001b[0m\u001b[0m\n\u001b[0;32m      6\u001b[0m \u001b[1;32mimport\u001b[0m \u001b[0mnumpy\u001b[0m \u001b[1;32mas\u001b[0m \u001b[0mnp\u001b[0m\u001b[1;33m\u001b[0m\u001b[0m\n\u001b[1;32m----> 7\u001b[1;33m \u001b[1;32mfrom\u001b[0m \u001b[0mtermcolor\u001b[0m \u001b[1;32mimport\u001b[0m \u001b[0mcolored\u001b[0m\u001b[1;33m\u001b[0m\u001b[0m\n\u001b[0m\u001b[0;32m      8\u001b[0m \u001b[1;32mimport\u001b[0m \u001b[0mtensorflow\u001b[0m \u001b[1;32mas\u001b[0m \u001b[0mtf\u001b[0m\u001b[1;33m\u001b[0m\u001b[0m\n\u001b[0;32m      9\u001b[0m \u001b[1;33m\u001b[0m\u001b[0m\n",
      "\u001b[1;31mImportError\u001b[0m: No module named termcolor"
     ]
    }
   ],
   "source": [
    "import os\n",
    "import numpy as np\n",
    "import vgg16\n",
    "import data_parser"
   ]
  },
  {
   "cell_type": "code",
   "execution_count": null,
   "metadata": {},
   "outputs": [],
   "source": [
    "model=vgg16()\n",
    "print(\"loaded model\")"
   ]
  },
  {
   "cell_type": "code",
   "execution_count": null,
   "metadata": {},
   "outputs": [],
   "source": [
    "train_data = data_parser()\n",
    "model.setup_training(session)\n",
    "\n",
    "opt = tf.train.AdamOptimizer(self.cfgs['optimizer_params']['learning_rate'])\n",
    "train = opt.minimize(self.model.loss)\n",
    "\n",
    "session.run(tf.global_variables_initializer())\n",
    "\n",
    "for idx in range(self.cfgs['max_iterations']):\n",
    "\n",
    "    im, em, _ = train_data.get_training_batch()\n",
    "\n",
    "    run_options = tf.RunOptions(trace_level=tf.RunOptions.FULL_TRACE)\n",
    "    run_metadata = tf.RunMetadata()\n",
    "\n",
    "    _, summary, loss = session.run([train, model.merged_summary, model.loss],\n",
    "                                   feed_dict={model.images: im, model.edgemaps: em},\n",
    "                                   options=run_options,\n",
    "                                   run_metadata=run_metadata)\n",
    "\n",
    "    model.train_writer.add_run_metadata(run_metadata, 'step{:06}'.format(idx))\n",
    "    model.train_writer.add_summary(summary, idx)\n",
    "\n",
    "    print('[{}/{}] TRAINING loss : {}'.format(idx, self.cfgs['max_iterations'], loss))\n",
    "\n",
    "    if idx % self.cfgs['save_interval'] == 0:\n",
    "\n",
    "        saver = tf.train.Saver()\n",
    "        saver.save(session, os.path.join(self.cfgs['save_dir'], 'models/hed-model'), global_step=idx)\n",
    "\n",
    "    if idx % self.cfgs['val_interval'] == 0:\n",
    "\n",
    "        im, em, _ = train_data.get_validation_batch()\n",
    "\n",
    "        summary, error = session.run([self.model.merged_summary, self.model.error], feed_dict={self.model.images: im, self.model.edgemaps: em})\n",
    "\n",
    "        self.model.val_writer.add_summary(summary, idx)\n",
    "        self.io.print_info('[{}/{}] VALIDATION error : {}'.format(idx, self.cfgs['max_iterations'], error))\n",
    "\n",
    "self.model.train_writer.close()"
   ]
  }
 ],
 "metadata": {
  "kernelspec": {
   "display_name": "Python 2",
   "language": "python",
   "name": "python2"
  },
  "language_info": {
   "codemirror_mode": {
    "name": "ipython",
    "version": 2
   },
   "file_extension": ".py",
   "mimetype": "text/x-python",
   "name": "python",
   "nbconvert_exporter": "python",
   "pygments_lexer": "ipython2",
   "version": "2.7.15"
  }
 },
 "nbformat": 4,
 "nbformat_minor": 2
}
